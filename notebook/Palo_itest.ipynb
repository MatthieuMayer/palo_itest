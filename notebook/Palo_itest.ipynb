{
 "cells": [
  {
   "cell_type": "code",
   "execution_count": 1,
   "metadata": {},
   "outputs": [],
   "source": [
    "import json\n",
    "import pandas as pd\n",
    "from datetime import datetime\n",
    "import sqlite3 as sl\n",
    "import re"
   ]
  },
  {
   "cell_type": "markdown",
   "metadata": {},
   "source": [
    "## Fetch 10 first rows for exploration"
   ]
  },
  {
   "cell_type": "code",
   "execution_count": 2,
   "metadata": {},
   "outputs": [
    {
     "data": {
      "text/html": [
       "<div>\n",
       "<style scoped>\n",
       "    .dataframe tbody tr th:only-of-type {\n",
       "        vertical-align: middle;\n",
       "    }\n",
       "\n",
       "    .dataframe tbody tr th {\n",
       "        vertical-align: top;\n",
       "    }\n",
       "\n",
       "    .dataframe thead th {\n",
       "        text-align: right;\n",
       "    }\n",
       "</style>\n",
       "<table border=\"1\" class=\"dataframe\">\n",
       "  <thead>\n",
       "    <tr style=\"text-align: right;\">\n",
       "      <th></th>\n",
       "      <th>id</th>\n",
       "      <th>submitter</th>\n",
       "      <th>authors</th>\n",
       "      <th>title</th>\n",
       "      <th>comments</th>\n",
       "      <th>journal-ref</th>\n",
       "      <th>doi</th>\n",
       "      <th>report-no</th>\n",
       "      <th>categories</th>\n",
       "      <th>license</th>\n",
       "      <th>abstract</th>\n",
       "      <th>versions</th>\n",
       "      <th>update_date</th>\n",
       "      <th>authors_parsed</th>\n",
       "    </tr>\n",
       "  </thead>\n",
       "  <tbody>\n",
       "    <tr>\n",
       "      <th>0</th>\n",
       "      <td>704.0001</td>\n",
       "      <td>Pavel Nadolsky</td>\n",
       "      <td>C. Bal\\'azs, E. L. Berger, P. M. Nadolsky, C.-...</td>\n",
       "      <td>Calculation of prompt diphoton production cros...</td>\n",
       "      <td>37 pages, 15 figures; published version</td>\n",
       "      <td>Phys.Rev.D76:013009,2007</td>\n",
       "      <td>10.1103/PhysRevD.76.013009</td>\n",
       "      <td>ANL-HEP-PR-07-12</td>\n",
       "      <td>hep-ph</td>\n",
       "      <td>None</td>\n",
       "      <td>A fully differential calculation in perturba...</td>\n",
       "      <td>[{\"version\": \"v1\", \"created\": \"Mon, 2 Apr 2007...</td>\n",
       "      <td>2008-11-26</td>\n",
       "      <td>[[\"Balázs\", \"C.\", \"\"], [\"Berger\", \"E. L.\", \"\"]...</td>\n",
       "    </tr>\n",
       "    <tr>\n",
       "      <th>1</th>\n",
       "      <td>704.0002</td>\n",
       "      <td>Louis Theran</td>\n",
       "      <td>Ileana Streinu and Louis Theran</td>\n",
       "      <td>Sparsity-certifying Graph Decompositions</td>\n",
       "      <td>To appear in Graphs and Combinatorics</td>\n",
       "      <td>None</td>\n",
       "      <td>None</td>\n",
       "      <td>None</td>\n",
       "      <td>math.CO cs.CG</td>\n",
       "      <td>http://arxiv.org/licenses/nonexclusive-distrib...</td>\n",
       "      <td>We describe a new algorithm, the $(k,\\ell)$-...</td>\n",
       "      <td>[{\"version\": \"v1\", \"created\": \"Sat, 31 Mar 200...</td>\n",
       "      <td>2008-12-13</td>\n",
       "      <td>[[\"Streinu\", \"Ileana\", \"\"], [\"Theran\", \"Louis\"...</td>\n",
       "    </tr>\n",
       "    <tr>\n",
       "      <th>2</th>\n",
       "      <td>704.0003</td>\n",
       "      <td>Hongjun Pan</td>\n",
       "      <td>Hongjun Pan</td>\n",
       "      <td>The evolution of the Earth-Moon system based o...</td>\n",
       "      <td>23 pages, 3 figures</td>\n",
       "      <td>None</td>\n",
       "      <td>None</td>\n",
       "      <td>None</td>\n",
       "      <td>physics.gen-ph</td>\n",
       "      <td>None</td>\n",
       "      <td>The evolution of Earth-Moon system is descri...</td>\n",
       "      <td>[{\"version\": \"v1\", \"created\": \"Sun, 1 Apr 2007...</td>\n",
       "      <td>2008-01-13</td>\n",
       "      <td>[[\"Pan\", \"Hongjun\", \"\"]]</td>\n",
       "    </tr>\n",
       "    <tr>\n",
       "      <th>3</th>\n",
       "      <td>704.0004</td>\n",
       "      <td>David Callan</td>\n",
       "      <td>David Callan</td>\n",
       "      <td>A determinant of Stirling cycle numbers counts...</td>\n",
       "      <td>11 pages</td>\n",
       "      <td>None</td>\n",
       "      <td>None</td>\n",
       "      <td>None</td>\n",
       "      <td>math.CO</td>\n",
       "      <td>None</td>\n",
       "      <td>We show that a determinant of Stirling cycle...</td>\n",
       "      <td>[{\"version\": \"v1\", \"created\": \"Sat, 31 Mar 200...</td>\n",
       "      <td>2007-05-23</td>\n",
       "      <td>[[\"Callan\", \"David\", \"\"]]</td>\n",
       "    </tr>\n",
       "    <tr>\n",
       "      <th>4</th>\n",
       "      <td>704.0005</td>\n",
       "      <td>Alberto Torchinsky</td>\n",
       "      <td>Wael Abu-Shammala and Alberto Torchinsky</td>\n",
       "      <td>From dyadic $\\Lambda_{\\alpha}$ to $\\Lambda_{\\a...</td>\n",
       "      <td>None</td>\n",
       "      <td>Illinois J. Math. 52 (2008) no.2, 681-689</td>\n",
       "      <td>None</td>\n",
       "      <td>None</td>\n",
       "      <td>math.CA math.FA</td>\n",
       "      <td>None</td>\n",
       "      <td>In this paper we show how to compute the $\\L...</td>\n",
       "      <td>[{\"version\": \"v1\", \"created\": \"Mon, 2 Apr 2007...</td>\n",
       "      <td>2013-10-15</td>\n",
       "      <td>[[\"Abu-Shammala\", \"Wael\", \"\"], [\"Torchinsky\", ...</td>\n",
       "    </tr>\n",
       "  </tbody>\n",
       "</table>\n",
       "</div>"
      ],
      "text/plain": [
       "         id           submitter  \\\n",
       "0  704.0001      Pavel Nadolsky   \n",
       "1  704.0002        Louis Theran   \n",
       "2  704.0003         Hongjun Pan   \n",
       "3  704.0004        David Callan   \n",
       "4  704.0005  Alberto Torchinsky   \n",
       "\n",
       "                                             authors  \\\n",
       "0  C. Bal\\'azs, E. L. Berger, P. M. Nadolsky, C.-...   \n",
       "1                    Ileana Streinu and Louis Theran   \n",
       "2                                        Hongjun Pan   \n",
       "3                                       David Callan   \n",
       "4           Wael Abu-Shammala and Alberto Torchinsky   \n",
       "\n",
       "                                               title  \\\n",
       "0  Calculation of prompt diphoton production cros...   \n",
       "1           Sparsity-certifying Graph Decompositions   \n",
       "2  The evolution of the Earth-Moon system based o...   \n",
       "3  A determinant of Stirling cycle numbers counts...   \n",
       "4  From dyadic $\\Lambda_{\\alpha}$ to $\\Lambda_{\\a...   \n",
       "\n",
       "                                  comments  \\\n",
       "0  37 pages, 15 figures; published version   \n",
       "1    To appear in Graphs and Combinatorics   \n",
       "2                      23 pages, 3 figures   \n",
       "3                                 11 pages   \n",
       "4                                     None   \n",
       "\n",
       "                                 journal-ref                         doi  \\\n",
       "0                   Phys.Rev.D76:013009,2007  10.1103/PhysRevD.76.013009   \n",
       "1                                       None                        None   \n",
       "2                                       None                        None   \n",
       "3                                       None                        None   \n",
       "4  Illinois J. Math. 52 (2008) no.2, 681-689                        None   \n",
       "\n",
       "          report-no       categories  \\\n",
       "0  ANL-HEP-PR-07-12           hep-ph   \n",
       "1              None    math.CO cs.CG   \n",
       "2              None   physics.gen-ph   \n",
       "3              None          math.CO   \n",
       "4              None  math.CA math.FA   \n",
       "\n",
       "                                             license  \\\n",
       "0                                               None   \n",
       "1  http://arxiv.org/licenses/nonexclusive-distrib...   \n",
       "2                                               None   \n",
       "3                                               None   \n",
       "4                                               None   \n",
       "\n",
       "                                            abstract  \\\n",
       "0    A fully differential calculation in perturba...   \n",
       "1    We describe a new algorithm, the $(k,\\ell)$-...   \n",
       "2    The evolution of Earth-Moon system is descri...   \n",
       "3    We show that a determinant of Stirling cycle...   \n",
       "4    In this paper we show how to compute the $\\L...   \n",
       "\n",
       "                                            versions update_date  \\\n",
       "0  [{\"version\": \"v1\", \"created\": \"Mon, 2 Apr 2007...  2008-11-26   \n",
       "1  [{\"version\": \"v1\", \"created\": \"Sat, 31 Mar 200...  2008-12-13   \n",
       "2  [{\"version\": \"v1\", \"created\": \"Sun, 1 Apr 2007...  2008-01-13   \n",
       "3  [{\"version\": \"v1\", \"created\": \"Sat, 31 Mar 200...  2007-05-23   \n",
       "4  [{\"version\": \"v1\", \"created\": \"Mon, 2 Apr 2007...  2013-10-15   \n",
       "\n",
       "                                      authors_parsed  \n",
       "0  [[\"Balázs\", \"C.\", \"\"], [\"Berger\", \"E. L.\", \"\"]...  \n",
       "1  [[\"Streinu\", \"Ileana\", \"\"], [\"Theran\", \"Louis\"...  \n",
       "2                           [[\"Pan\", \"Hongjun\", \"\"]]  \n",
       "3                          [[\"Callan\", \"David\", \"\"]]  \n",
       "4  [[\"Abu-Shammala\", \"Wael\", \"\"], [\"Torchinsky\", ...  "
      ]
     },
     "execution_count": 2,
     "metadata": {},
     "output_type": "execute_result"
    }
   ],
   "source": [
    "# connect to the database\n",
    "con = sl.connect('arxiv.db')\n",
    "# build query with 'table'and 'columns'\n",
    "query = \"SELECT * FROM ARXIV LIMIT 5\"\n",
    "# query columns 'categories' and 'versions'\n",
    "df = pd.read_sql(query, con, coerce_float=False)\n",
    "df.head()"
   ]
  },
  {
   "cell_type": "markdown",
   "metadata": {},
   "source": [
    "## Query each complete column and perform basic stats"
   ]
  },
  {
   "cell_type": "code",
   "execution_count": 3,
   "metadata": {},
   "outputs": [],
   "source": [
    "def query_columns(table='ARXIV', columns=['categories', 'versions']):\n",
    "    \"\"\"Query 'columns' from 'table' given as parameters.\n",
    "\n",
    "    Parameters\n",
    "    -------------------------------------------------------------------------------------\n",
    "    table: str\n",
    "        The name of the table to query from.\n",
    "    columns: list\n",
    "        The list of columns to query from the table.\n",
    "    \"\"\"\n",
    "    # connect to the database\n",
    "    con = sl.connect('arxiv.db')\n",
    "    # build query with 'table'and 'columns'\n",
    "    query = \"SELECT \" + \"`\" + \", \".join(columns) + \"`\" + \" FROM \" + table # + \" LIMIT 1000\"\n",
    "    # query columns 'categories' and 'versions'\n",
    "    df = pd.read_sql(query, con, coerce_float=False)\n",
    "    return df\n",
    "\n",
    "def col_stats(df):\n",
    "    \"\"\"Compute basic statistics on given df for exploration.\n",
    "    \n",
    "    Parameters\n",
    "    -------------------------------------------------------------------------------------\n",
    "    df: pandas DataFrame\n",
    "        The DataFrame of one column to compute stats on.\n",
    "    \"\"\"\n",
    "    # number of entries\n",
    "    total_count = len(df)\n",
    "    # extract name of the column\n",
    "    label = df.keys()[0]\n",
    "    report = \"COLUMN {}: \\n\".format(label.upper())\n",
    "    # count empty cells in the column\n",
    "    nan_count = sum(df[label] == '')\n",
    "    if nan_count != 0:\n",
    "        report = report + \"  - Number of null entries: {} / {}\\n\".format(nan_count, total_count)\n",
    "    # number of unique values\n",
    "    unique_count = len(df[label].unique())\n",
    "    report = report + \"  - Number of unique values: {} / {}\\n\".format(unique_count, total_count)\n",
    "    # top10 value counts\n",
    "    top10_count = list(zip(df[label].value_counts().index[0:20],\n",
    "                           df[label].value_counts().values[0:20])\n",
    "                      )\n",
    "    report = report + \"  - Top 20 number of entries per value:\\n\".format(unique_count)\n",
    "    for aut in top10_count:\n",
    "        report = report + \"\\t {}\\n\".format(aut)\n",
    "    print(report)"
   ]
  },
  {
   "cell_type": "code",
   "execution_count": 4,
   "metadata": {},
   "outputs": [
    {
     "name": "stdout",
     "output_type": "stream",
     "text": [
      "COLUMN ID: \n",
      "  - Number of unique values: 1796907 / 1796911\n",
      "  - Top 20 number of entries per value:\n",
      "\t ('math-ph/0207039', 2)\n",
      "\t ('math-ph/0408005', 2)\n",
      "\t ('math-ph/0409039', 2)\n",
      "\t ('math-ph/0212014', 2)\n",
      "\t (1406.6845, 1)\n",
      "\t (1405.6126, 1)\n",
      "\t (1801.02556, 1)\n",
      "\t (1407.7046, 1)\n",
      "\t ('gr-qc/0302100', 1)\n",
      "\t (2002.00731, 1)\n",
      "\t (1606.06185, 1)\n",
      "\t (1710.0616, 1)\n",
      "\t (1812.02988, 1)\n",
      "\t (2002.05238, 1)\n",
      "\t (1704.02809, 1)\n",
      "\t (1508.03904, 1)\n",
      "\t (1502.01745, 1)\n",
      "\t (1803.05541, 1)\n",
      "\t ('hep-ex/0212046', 1)\n",
      "\t (2004.12112, 1)\n",
      "\n"
     ]
    }
   ],
   "source": [
    "df_id = query_columns(columns=['id'])\n",
    "col_stats(df_id)\n",
    "del df_id"
   ]
  },
  {
   "cell_type": "code",
   "execution_count": 5,
   "metadata": {},
   "outputs": [
    {
     "name": "stdout",
     "output_type": "stream",
     "text": [
      "COLUMN SUBMITTER: \n",
      "  - Number of unique values: 364666 / 1796911\n",
      "  - Top 20 number of entries per value:\n",
      "\t ('EPTCS', 2929)\n",
      "\t ('The CMS Collaboration', 655)\n",
      "\t ('Atlas Publications', 623)\n",
      "\t ('EDA Publishing Association', 391)\n",
      "\t ('Cms Collaboration', 373)\n",
      "\t ('Delfim F. M. Torres', 367)\n",
      "\t ('The ATLAS Collaboration', 338)\n",
      "\t ('Scientific Information Service CERN', 285)\n",
      "\t ('Alice Publications', 273)\n",
      "\t ('Rdv Ijcsis', 268)\n",
      "\t ('Wei Wang', 245)\n",
      "\t ('Lorenzo Iorio', 244)\n",
      "\t ('Loet Leydesdorff', 243)\n",
      "\t ('Shelah Office', 239)\n",
      "\t ('Taekyun Kim', 237)\n",
      "\t ('Craig Roberts', 223)\n",
      "\t ('Ernest Ma', 221)\n",
      "\t ('Matt Visser', 218)\n",
      "\t ('Uwe Aickelin', 218)\n",
      "\t ('Taras Banakh', 214)\n",
      "\n"
     ]
    }
   ],
   "source": [
    "df_sub = query_columns(columns=['submitter'])\n",
    "col_stats(df_sub)\n",
    "del df_sub"
   ]
  },
  {
   "cell_type": "code",
   "execution_count": 6,
   "metadata": {},
   "outputs": [
    {
     "name": "stdout",
     "output_type": "stream",
     "text": [
      "COLUMN AUTHORS: \n",
      "  - Number of unique values: 1362398 / 1796911\n",
      "  - Top 20 number of entries per value:\n",
      "\t ('CMS Collaboration', 992)\n",
      "\t ('ATLAS Collaboration', 901)\n",
      "\t ('ALICE Collaboration', 308)\n",
      "\t ('The BABAR Collaboration, B. Aubert, et al', 263)\n",
      "\t ('Saharon Shelah', 218)\n",
      "\t ('Lorenzo Iorio', 214)\n",
      "\t ('ZEUS Collaboration', 154)\n",
      "\t ('Miloslav Znojil', 150)\n",
      "\t ('Shahar Hod', 149)\n",
      "\t ('The BABAR Collaboration: B. Aubert, et al', 146)\n",
      "\t ('D0 Collaboration', 141)\n",
      "\t ('Ernest Ma (UC Riverside)', 140)\n",
      "\t ('Zhi-Gang Wang', 126)\n",
      "\t ('Ashoke Sen', 122)\n",
      "\t ('G.E. Volovik', 121)\n",
      "\t ('A.G.Ramm', 120)\n",
      "\t ('CDF Collaboration', 118)\n",
      "\t ('J. Kluson', 117)\n",
      "\t ('L3 Collaboration', 116)\n",
      "\t ('Ali Mostafazadeh', 116)\n",
      "\n"
     ]
    }
   ],
   "source": [
    "df_aut = query_columns(columns=['authors'])\n",
    "col_stats(df_aut)\n",
    "del df_aut"
   ]
  },
  {
   "cell_type": "code",
   "execution_count": 7,
   "metadata": {},
   "outputs": [
    {
     "name": "stdout",
     "output_type": "stream",
     "text": [
      "COLUMN TITLE: \n",
      "  - Number of unique values: 1793433 / 1796911\n",
      "  - Top 20 number of entries per value:\n",
      "\t ('Discussion of: A statistical analysis of multiple temperature proxies:\\n  Are reconstructions of surface temperatures over the last 1000 years\\n  reliable?', 12)\n",
      "\t ('Beyond the Standard Model', 11)\n",
      "\t ('Physics Beyond the Standard Model', 9)\n",
      "\t ('Neutrino Physics', 9)\n",
      "\t ('Rare Kaon Decays', 8)\n",
      "\t ('Discussion of \"Least angle regression\" by Efron et al', 8)\n",
      "\t ('A Combination of Preliminary Electroweak Measurements and Constraints on\\n  the Standard Model', 7)\n",
      "\t ('Discussion of: Brownian distance covariance', 7)\n",
      "\t ('Recent results from NA61/SHINE', 6)\n",
      "\t ('Discussion: Latent variable graphical model selection via convex\\n  optimization', 6)\n",
      "\t ('Solar Neutrinos', 6)\n",
      "\t ('Discussion: \"A significance test for the lasso\"', 6)\n",
      "\t ('Rejoinder', 6)\n",
      "\t ('Ultra High Energy Cosmic Rays', 6)\n",
      "\t ('CP Violation in Hyperon Decays', 6)\n",
      "\t ('Discussion of \"Breakdown and groups\" by P. L. Davies and U. Gather', 6)\n",
      "\t ('Chiral Perturbation Theory', 6)\n",
      "\t ('Flavour Physics and CP Violation', 6)\n",
      "\t ('Dark Matter', 6)\n",
      "\t ('Higgs Physics', 6)\n",
      "\n"
     ]
    }
   ],
   "source": [
    "df_tit = query_columns(columns=['title'])\n",
    "col_stats(df_tit)\n",
    "del df_tit"
   ]
  },
  {
   "cell_type": "code",
   "execution_count": 8,
   "metadata": {},
   "outputs": [
    {
     "name": "stdout",
     "output_type": "stream",
     "text": [
      "COLUMN COMMENTS: \n",
      "  - Number of unique values: 890631 / 1796911\n",
      "  - Top 20 number of entries per value:\n",
      "\t ('10 pages', 6570)\n",
      "\t ('12 pages', 5736)\n",
      "\t ('5 pages, 4 figures', 5505)\n",
      "\t ('8 pages', 5383)\n",
      "\t ('11 pages', 5347)\n",
      "\t ('9 pages', 5298)\n",
      "\t ('14 pages', 5112)\n",
      "\t ('13 pages', 4922)\n",
      "\t ('15 pages', 4827)\n",
      "\t ('4 pages, 4 figures', 4660)\n",
      "\t ('6 pages', 4642)\n",
      "\t ('16 pages', 4592)\n",
      "\t ('7 pages', 4569)\n",
      "\t ('5 pages', 4419)\n",
      "\t ('4 pages, 3 figures', 4155)\n",
      "\t ('18 pages', 4090)\n",
      "\t ('17 pages', 4065)\n",
      "\t ('5 pages, 3 figures', 4028)\n",
      "\t ('4 pages', 3925)\n",
      "\t ('19 pages', 3701)\n",
      "\n"
     ]
    }
   ],
   "source": [
    "df_com = query_columns(columns=['comments'])\n",
    "col_stats(df_com)\n",
    "del df_com"
   ]
  },
  {
   "cell_type": "code",
   "execution_count": 9,
   "metadata": {},
   "outputs": [
    {
     "name": "stdout",
     "output_type": "stream",
     "text": [
      "COLUMN JOURNAL-REF: \n",
      "  - Number of unique values: 687439 / 1796911\n",
      "  - Top 20 number of entries per value:\n",
      "\t (\"Dans Design, Automation and Test in Europe - DATE'05, Munich :\\n  Allemagne (2005)\", 128)\n",
      "\t ('Dans Symposium on Design, Test, Integration and Packaging of\\n  MEMS/MOEMS - DTIP 2008, Nice : France (2008)', 77)\n",
      "\t ('Prog Theor Exp Phys (2020)', 69)\n",
      "\t ('Dans Symposium on Design, Test, Integration and Packaging of\\n  MEMS/MOEMS - DTIP 2007, Stresa, lago Maggiore : Italie (2007)', 66)\n",
      "\t ('Prog Theor Exp Phys (2019)', 57)\n",
      "\t ('Prog Theor Exp Phys (2018)', 57)\n",
      "\t ('Prog Theor Exp Phys (2017)', 53)\n",
      "\t ('Dans Symposium on Design, Test, Integration and Packaging of\\n  MEMS/MOEMS - DTIP 2006, Stresa, Lago Maggiore : Italie (2006)', 49)\n",
      "\t (\"Dans Design, Automation and Test in Europe | Designers'Forum -\\n  DATE'05, Munich : Allemagne (2005)\", 41)\n",
      "\t ('Dans Proceedings of the 25th Annual Symposium on the Theoretical\\n  Aspects of Computer Science - STACS 2008, Bordeaux : France (2008)', 39)\n",
      "\t ('Dans Proceedings of 12th International Workshop on Thermal\\n  investigations of ICs - THERMINIC 2006, Nice : France (2006)', 37)\n",
      "\t ('Dans 13th International Worshop on THERMal INvestigations of ICs\\n  and Systems - THERMINIC 2007, Budapest : Hongrie (2007)', 29)\n",
      "\t ('Journal of Computing, Vol. 2, No. 6, June 2010, NY, USA, ISSN\\n  2151-9617', 27)\n",
      "\t ('IJCSI, Volume 7, Issue 2, March 2010', 26)\n",
      "\t ('International Journal of Computer Science and Information\\n  Security, IJCSIS, Vol. 4, No. 1 & 2, August 2009, USA', 26)\n",
      "\t ('Journal of Computing, Volume 2, Issue 2, February 2010,\\n  https://sites.google.com/site/journalofcomputing/', 25)\n",
      "\t ('Dans European Nano Systems Worshop - ENS 2005, Paris : France\\n  (2005)', 24)\n",
      "\t ('Journal of Computing, Volume 2, Issue 3, March 2010,\\n  https://sites.google.com/site/journalofcomputing/', 23)\n",
      "\t ('Journal of Computing, Volume 2, Issue 5, May 2010', 22)\n",
      "\t ('Dans European Nano Systems Worshop - ENS 2006, Paris : France\\n  (2006)', 22)\n",
      "\n"
     ]
    }
   ],
   "source": [
    "df_jou = query_columns(columns=['journal-ref'])\n",
    "col_stats(df_jou)\n",
    "del df_jou"
   ]
  },
  {
   "cell_type": "code",
   "execution_count": 10,
   "metadata": {},
   "outputs": [
    {
     "name": "stdout",
     "output_type": "stream",
     "text": [
      "COLUMN DOI: \n",
      "  - Number of unique values: 929947 / 1796911\n",
      "  - Top 20 number of entries per value:\n",
      "\t ('10.1145/1122445.1122456', 14)\n",
      "\t ('10.1007/b97728', 12)\n",
      "\t ('10.1214/009053604000000067', 10)\n",
      "\t ('10.1016/j.bbr.2011.03.031', 9)\n",
      "\t ('10.1214/009053604000001138', 8)\n",
      "\t ('10.1145/1235', 8)\n",
      "\t ('10.3103/50884591305030022', 8)\n",
      "\t ('10.1007/b97189', 7)\n",
      "\t ('10.1007/b13178', 7)\n",
      "\t ('10.1214/009053604000001048', 6)\n",
      "\t ('10.1103/PhysRevLett.99.071302', 5)\n",
      "\t ('10.1140/epjc/s2004-01780-x', 5)\n",
      "\t ('10.5121/ijcsit', 5)\n",
      "\t ('10.1088/0953-8984/20/29/293202', 4)\n",
      "\t ('10.1007/b98716', 4)\n",
      "\t ('10.1016/S0550-3213(01)00405-9', 4)\n",
      "\t ('10.1103/PhysRevB.80.024506', 4)\n",
      "\t ('10.1007/b98411', 4)\n",
      "\t ('10.1007/978-94-017-7303-4', 4)\n",
      "\t ('10.4064/fm977-10-2015', 4)\n",
      "\n"
     ]
    }
   ],
   "source": [
    "df_doi = query_columns(columns=['doi'])\n",
    "col_stats(df_doi)\n",
    "del df_doi"
   ]
  },
  {
   "cell_type": "code",
   "execution_count": 11,
   "metadata": {},
   "outputs": [
    {
     "name": "stdout",
     "output_type": "stream",
     "text": [
      "COLUMN REPORT-NO: \n",
      "  - Number of unique values: 159417 / 1796911\n",
      "  - Top 20 number of entries per value:\n",
      "\t ('CPH-SYM-DNRF92', 344)\n",
      "\t ('Roma01.Math', 167)\n",
      "\t ('CPH-SYM-00', 139)\n",
      "\t ('Bulletin migration 11/99', 138)\n",
      "\t ('ISSN 1947 5500', 131)\n",
      "\t ('Annals migration 4-2001', 98)\n",
      "\t ('RIKEN-iTHEMS-Report-20', 70)\n",
      "\t ('JNMP 4/2002 (Article)', 66)\n",
      "\t ('Roma01.Math.MP', 62)\n",
      "\t ('Mittag-Leffler-2011spring', 59)\n",
      "\t ('RIKEN-iTHEMS-Report-19', 56)\n",
      "\t ('Roma01.math.AG', 53)\n",
      "\t ('GFL-001', 42)\n",
      "\t ('JNMP 4/2002 (Letter)', 41)\n",
      "\t ('Roma01.Math.AP', 38)\n",
      "\t ('Mittag-Leffler-2010fall', 36)\n",
      "\t ('ICM-2002', 35)\n",
      "\t ('SWAT4LS 2010', 34)\n",
      "\t ('SOAR-GMJT-01', 32)\n",
      "\t ('Roma01.Math.RT', 31)\n",
      "\n"
     ]
    }
   ],
   "source": [
    "df_rep = query_columns(columns=['report-no'])\n",
    "col_stats(df_rep)\n",
    "del df_rep"
   ]
  },
  {
   "cell_type": "code",
   "execution_count": 12,
   "metadata": {},
   "outputs": [
    {
     "name": "stdout",
     "output_type": "stream",
     "text": [
      "COLUMN CATEGORIES: \n",
      "  - Number of unique values: 62055 / 1796911\n",
      "  - Top 20 number of entries per value:\n",
      "\t ('astro-ph', 86914)\n",
      "\t ('hep-ph', 73550)\n",
      "\t ('quant-ph', 53966)\n",
      "\t ('hep-th', 53287)\n",
      "\t ('cond-mat.mtrl-sci', 30107)\n",
      "\t ('cond-mat.mes-hall', 29751)\n",
      "\t ('cs.CV', 25586)\n",
      "\t ('gr-qc', 25555)\n",
      "\t ('math.AP', 24199)\n",
      "\t ('astro-ph.SR', 22994)\n",
      "\t ('cond-mat.str-el', 22375)\n",
      "\t ('astro-ph.GA', 21451)\n",
      "\t ('math.CO', 21427)\n",
      "\t ('math.PR', 19008)\n",
      "\t ('cs.IT math.IT', 18966)\n",
      "\t ('astro-ph.CO', 18746)\n",
      "\t ('nucl-th', 17741)\n",
      "\t ('cond-mat.stat-mech', 17359)\n",
      "\t ('astro-ph.HE', 17267)\n",
      "\t ('math.NT', 16456)\n",
      "\n"
     ]
    }
   ],
   "source": [
    "df_cat = query_columns(columns=['categories'])\n",
    "col_stats(df_cat)\n",
    "del df_cat"
   ]
  },
  {
   "cell_type": "code",
   "execution_count": 13,
   "metadata": {},
   "outputs": [
    {
     "name": "stdout",
     "output_type": "stream",
     "text": [
      "COLUMN LICENSE: \n",
      "  - Number of unique values: 10 / 1796911\n",
      "  - Top 20 number of entries per value:\n",
      "\t ('http://arxiv.org/licenses/nonexclusive-distrib/1.0/', 1286517)\n",
      "\t ('http://creativecommons.org/licenses/by/4.0/', 24529)\n",
      "\t ('http://creativecommons.org/licenses/by-nc-sa/4.0/', 9522)\n",
      "\t ('http://creativecommons.org/licenses/by/3.0/', 7930)\n",
      "\t ('http://creativecommons.org/licenses/by-nc-sa/3.0/', 5886)\n",
      "\t ('http://creativecommons.org/publicdomain/zero/1.0/', 3608)\n",
      "\t ('http://creativecommons.org/licenses/by-sa/4.0/', 3207)\n",
      "\t ('http://creativecommons.org/licenses/publicdomain/', 2480)\n",
      "\t ('http://creativecommons.org/licenses/by-nc-nd/4.0/', 256)\n",
      "\n"
     ]
    }
   ],
   "source": [
    "df_lic = query_columns(columns=['license'])\n",
    "col_stats(df_lic)\n",
    "del df_lic"
   ]
  },
  {
   "cell_type": "code",
   "execution_count": 14,
   "metadata": {},
   "outputs": [
    {
     "name": "stdout",
     "output_type": "stream",
     "text": [
      "COLUMN ABSTRACT: \n",
      "  - Number of unique values: 1795292 / 1796911\n",
      "  - Top 20 number of entries per value:\n",
      "\t ('  This paper has been withdrawn.\\n', 91)\n",
      "\t ('  This paper has been withdrawn by the author.\\n', 62)\n",
      "\t ('  This paper has been withdrawn by the authors.\\n', 38)\n",
      "\t ('  This paper has been withdrawn\\n', 33)\n",
      "\t ('  This paper has been withdrawn by the author\\n', 23)\n",
      "\t ('  The paper has been withdrawn\\n', 16)\n",
      "\t ('  See hep-ph/0304045\\n', 15)\n",
      "\t ('  Discussion of \"A statistical analysis of multiple temperature proxies: Are\\nreconstructions of surface temperatures over the last 1000 years reliable?\" by\\nB.B. McShane and A.J. Wyner [arXiv:1104.4002]\\n', 13)\n",
      "\t ('  The paper has been withdrawn.\\n', 13)\n",
      "\t ('  This paper was withdrawn by the authors.\\n', 10)\n",
      "\t ('  This paper has been withdrawn by the author due to a crucial sign error in\\nequation 1\\n', 9)\n",
      "\t ('  This paper has been withdrawn by the authors\\n', 8)\n",
      "\t (\"  Discussion of ``Least angle regression'' by Efron et al. [math.ST/0406456]\\n\", 8)\n",
      "\t ('  This paper has been withdrawn by the author due to the presented idea is\\nwrong.\\n', 7)\n",
      "\t (\"  Discussion of ``Statistical analysis of an archeological find'' by Andrey\\nFeuerverger [arXiv:0804.0079]\\n\", 7)\n",
      "\t ('  This paper is withdrawn.\\n', 7)\n",
      "\t (\"  Discussion of ``The William Kruskal Legacy: 1919--2005'' by Stephen E.\\nFienberg, Stephen M. Stigler and Judith M. Tanur [arXiv:0710.5063]\\n\", 7)\n",
      "\t ('  In this series of seven papers, predominantly by means of elementary\\nanalysis, we establish a number of identities related to the Riemann zeta\\nfunction. Whilst this paper is mainly expository, some of the formulae reported\\nin it are believed to be new, and the paper may also be of interest\\nspecifically due to the fact that most of the various identities have been\\nderived by elementary methods.\\n', 7)\n",
      "\t ('  Withdrawn by arXiv administration because authors have forged affiliations\\nand acknowledgements, and have not adequately responded to charges\\n[hep-th/9912039] of unattributed use of verbatim material.\\n', 7)\n",
      "\t ('  No abstract available.\\n', 7)\n",
      "\n"
     ]
    }
   ],
   "source": [
    "df_abs = query_columns(columns=['abstract'])\n",
    "col_stats(df_abs)\n",
    "del df_abs"
   ]
  },
  {
   "cell_type": "code",
   "execution_count": 15,
   "metadata": {},
   "outputs": [
    {
     "name": "stdout",
     "output_type": "stream",
     "text": [
      "COLUMN VERSIONS: \n",
      "  - Number of unique values: 1789813 / 1796911\n",
      "  - Top 20 number of entries per value:\n",
      "\t ('[{\"version\": \"v1\", \"created\": \"Wed, 27 Jun 2012 19:59:59 GMT\"}]', 103)\n",
      "\t ('[{\"version\": \"v1\", \"created\": \"Tue, 14 Feb 2012 16:41:17 GMT\"}]', 82)\n",
      "\t ('[{\"version\": \"v1\", \"created\": \"Thu, 15 Mar 2012 11:17:56 GMT\"}]', 78)\n",
      "\t ('[{\"version\": \"v1\", \"created\": \"Sun, 1 Dec 2002 00:00:00 GMT\"}]', 33)\n",
      "\t ('[{\"version\": \"v1\", \"created\": \"Wed, 1 Apr 1992 00:00:00 GMT\"}]', 22)\n",
      "\t ('[{\"version\": \"v1\", \"created\": \"Wed, 8 Apr 1992 22:58:34 GMT\"}]', 18)\n",
      "\t ('[{\"version\": \"v1\", \"created\": \"Thu, 9 Feb 1995 00:00:00 GMT\"}]', 18)\n",
      "\t ('[{\"version\": \"v1\", \"created\": \"Fri, 9 Jul 1993 00:00:00 GMT\"}]', 17)\n",
      "\t ('[{\"version\": \"v1\", \"created\": \"Thu, 1 Jul 1999 00:00:00 GMT\"}]', 17)\n",
      "\t ('[{\"version\": \"v1\", \"created\": \"Wed, 1 Jan 1992 00:00:00 GMT\"}]', 17)\n",
      "\t ('[{\"version\": \"v1\", \"created\": \"Thu, 1 Oct 1992 00:00:00 GMT\"}]', 16)\n",
      "\t ('[{\"version\": \"v1\", \"created\": \"Sun, 1 Jan 1995 00:00:00 GMT\"}]', 13)\n",
      "\t ('[{\"version\": \"v1\", \"created\": \"Sun, 15 Aug 1993 00:00:00 GMT\"}]', 13)\n",
      "\t ('[{\"version\": \"v1\", \"created\": \"Sat, 1 May 1999 00:00:00 GMT\"}]', 13)\n",
      "\t ('[{\"version\": \"v1\", \"created\": \"Mon, 1 Jan 2001 00:00:00 GMT\"}]', 13)\n",
      "\t ('[{\"version\": \"v1\", \"created\": \"Fri, 1 Jan 1999 00:00:00 GMT\"}]', 13)\n",
      "\t ('[{\"version\": \"v1\", \"created\": \"Wed, 1 Jul 1992 00:00:00 GMT\"}]', 12)\n",
      "\t ('[{\"version\": \"v1\", \"created\": \"Sat, 1 Oct 1994 00:00:00 GMT\"}]', 12)\n",
      "\t ('[{\"version\": \"v1\", \"created\": \"Sat, 1 Jul 2000 00:00:00 GMT\"}]', 12)\n",
      "\t ('[{\"version\": \"v1\", \"created\": \"Wed, 1 Apr 1998 00:00:00 GMT\"}]', 12)\n",
      "\n"
     ]
    }
   ],
   "source": [
    "df_ver = query_columns(columns=['versions'])\n",
    "col_stats(df_ver)\n",
    "del df_ver"
   ]
  },
  {
   "cell_type": "code",
   "execution_count": 16,
   "metadata": {},
   "outputs": [
    {
     "name": "stdout",
     "output_type": "stream",
     "text": [
      "COLUMN UPDATE_DATE: \n",
      "  - Number of unique values: 4095 / 1796911\n",
      "  - Top 20 number of entries per value:\n",
      "\t ('2007-05-23', 130748)\n",
      "\t ('2008-11-26', 33257)\n",
      "\t ('2009-11-10', 32199)\n",
      "\t ('2009-10-31', 31908)\n",
      "\t ('2009-11-07', 29264)\n",
      "\t ('2009-11-13', 26007)\n",
      "\t ('2009-11-11', 23375)\n",
      "\t ('2009-10-30', 12211)\n",
      "\t ('2009-10-28', 11105)\n",
      "\t ('2015-05-13', 10143)\n",
      "\t ('2008-02-03', 6908)\n",
      "\t ('2009-10-22', 6231)\n",
      "\t ('2015-05-20', 5946)\n",
      "\t ('2015-06-11', 5680)\n",
      "\t ('2015-05-27', 5573)\n",
      "\t ('2015-06-03', 5410)\n",
      "\t ('2015-05-19', 5348)\n",
      "\t ('2015-06-26', 5334)\n",
      "\t ('2015-06-17', 5250)\n",
      "\t ('2015-06-16', 5233)\n",
      "\n"
     ]
    }
   ],
   "source": [
    "df_upd = query_columns(columns=['update_date'])\n",
    "col_stats(df_upd)\n",
    "del df_upd"
   ]
  },
  {
   "cell_type": "code",
   "execution_count": 17,
   "metadata": {},
   "outputs": [
    {
     "name": "stdout",
     "output_type": "stream",
     "text": [
      "COLUMN AUTHORS_PARSED: \n",
      "  - Number of unique values: 1300964 / 1796911\n",
      "  - Top 20 number of entries per value:\n",
      "\t ('[[\"CMS Collaboration\", \"\", \"\"]]', 992)\n",
      "\t ('[[\"ATLAS Collaboration\", \"\", \"\"]]', 902)\n",
      "\t ('[[\"The BABAR Collaboration\", \"\", \"\"], [\"Aubert\", \"B.\", \"\"]]', 412)\n",
      "\t ('[[\"ALICE Collaboration\", \"\", \"\"]]', 309)\n",
      "\t ('[[\"Shelah\", \"Saharon\", \"\"]]', 218)\n",
      "\t ('[[\"Iorio\", \"Lorenzo\", \"\"]]', 214)\n",
      "\t ('[[\"ZEUS Collaboration\", \"\", \"\"]]', 156)\n",
      "\t ('[[\"Ramm\", \"A. G.\", \"\"]]', 151)\n",
      "\t ('[[\"Znojil\", \"Miloslav\", \"\"]]', 150)\n",
      "\t ('[[\"Hod\", \"Shahar\", \"\"]]', 149)\n",
      "\t ('[[\"D0 Collaboration\", \"\", \"\"]]', 143)\n",
      "\t ('[[\"Ma\", \"Ernest\", \"\", \"UC Riverside\"]]', 140)\n",
      "\t ('[[\"D0 Collaboration\", \"\", \"\"], [\"Abazov\", \"V.\", \"\"]]', 127)\n",
      "\t ('[[\"Wang\", \"Zhi-Gang\", \"\"]]', 126)\n",
      "\t ('[[\"Volovik\", \"G. E.\", \"\"]]', 124)\n",
      "\t ('[[\"Sen\", \"Ashoke\", \"\"]]', 122)\n",
      "\t ('[[\"Kluson\", \"J.\", \"\"]]', 121)\n",
      "\t ('[[\"Sidharth\", \"B. G.\", \"\"]]', 121)\n",
      "\t ('[[\"CDF Collaboration\", \"\", \"\"]]', 118)\n",
      "\t ('[[\"Moffat\", \"J. W.\", \"\"]]', 118)\n",
      "\n"
     ]
    }
   ],
   "source": [
    "df_aut_p = query_columns(columns=['authors_parsed'])\n",
    "col_stats(df_aut_p)\n",
    "del df_aut_p"
   ]
  },
  {
   "cell_type": "markdown",
   "metadata": {},
   "source": [
    "## Explore column categories (target)"
   ]
  },
  {
   "cell_type": "code",
   "execution_count": 18,
   "metadata": {},
   "outputs": [
    {
     "data": {
      "text/html": [
       "<div>\n",
       "<style scoped>\n",
       "    .dataframe tbody tr th:only-of-type {\n",
       "        vertical-align: middle;\n",
       "    }\n",
       "\n",
       "    .dataframe tbody tr th {\n",
       "        vertical-align: top;\n",
       "    }\n",
       "\n",
       "    .dataframe thead th {\n",
       "        text-align: right;\n",
       "    }\n",
       "</style>\n",
       "<table border=\"1\" class=\"dataframe\">\n",
       "  <thead>\n",
       "    <tr style=\"text-align: right;\">\n",
       "      <th></th>\n",
       "      <th>categories</th>\n",
       "    </tr>\n",
       "  </thead>\n",
       "  <tbody>\n",
       "    <tr>\n",
       "      <th>0</th>\n",
       "      <td>hep-ph</td>\n",
       "    </tr>\n",
       "    <tr>\n",
       "      <th>1</th>\n",
       "      <td>math.CO cs.CG</td>\n",
       "    </tr>\n",
       "    <tr>\n",
       "      <th>2</th>\n",
       "      <td>physics.gen-ph</td>\n",
       "    </tr>\n",
       "    <tr>\n",
       "      <th>3</th>\n",
       "      <td>math.CO</td>\n",
       "    </tr>\n",
       "    <tr>\n",
       "      <th>4</th>\n",
       "      <td>math.CA math.FA</td>\n",
       "    </tr>\n",
       "    <tr>\n",
       "      <th>5</th>\n",
       "      <td>cond-mat.mes-hall</td>\n",
       "    </tr>\n",
       "    <tr>\n",
       "      <th>6</th>\n",
       "      <td>gr-qc</td>\n",
       "    </tr>\n",
       "    <tr>\n",
       "      <th>7</th>\n",
       "      <td>cond-mat.mtrl-sci</td>\n",
       "    </tr>\n",
       "    <tr>\n",
       "      <th>8</th>\n",
       "      <td>astro-ph</td>\n",
       "    </tr>\n",
       "    <tr>\n",
       "      <th>9</th>\n",
       "      <td>math.CO</td>\n",
       "    </tr>\n",
       "  </tbody>\n",
       "</table>\n",
       "</div>"
      ],
      "text/plain": [
       "          categories\n",
       "0             hep-ph\n",
       "1      math.CO cs.CG\n",
       "2     physics.gen-ph\n",
       "3            math.CO\n",
       "4    math.CA math.FA\n",
       "5  cond-mat.mes-hall\n",
       "6              gr-qc\n",
       "7  cond-mat.mtrl-sci\n",
       "8           astro-ph\n",
       "9            math.CO"
      ]
     },
     "execution_count": 18,
     "metadata": {},
     "output_type": "execute_result"
    }
   ],
   "source": [
    "df_cat = query_columns(columns=['categories'])\n",
    "df_cat.head(10)"
   ]
  },
  {
   "cell_type": "markdown",
   "metadata": {},
   "source": [
    "#### Count unique values"
   ]
  },
  {
   "cell_type": "code",
   "execution_count": 19,
   "metadata": {},
   "outputs": [
    {
     "data": {
      "text/plain": [
       "62055"
      ]
     },
     "execution_count": 19,
     "metadata": {},
     "output_type": "execute_result"
    }
   ],
   "source": [
    "len(df_cat.categories.unique())"
   ]
  },
  {
   "cell_type": "markdown",
   "metadata": {},
   "source": [
    "#### Replace by main category"
   ]
  },
  {
   "cell_type": "code",
   "execution_count": 21,
   "metadata": {},
   "outputs": [],
   "source": [
    "# Define sub categories correspondance\n",
    "categories = {'cs': ['cs'], 'econ': ['econ'], 'eess': ['eess'], 'math': ['math'], \n",
    "              'q-bio': ['q-bio'], 'q-fin': ['q-fin'], 'stat': ['stat'], \n",
    "              'physics': ['astro-ph', 'cond-mat', 'gr-qc', 'hep', 'math-ph', 'nlin', 'nucl', 'quant-ph']\n",
    "             }\n",
    "\n",
    "# Define function to repalce sub category by main category\n",
    "def main_cat(cat):\n",
    "    for key in categories.keys():\n",
    "        for subcat in categories[key]:\n",
    "            if subcat in cat:\n",
    "                return key"
   ]
  },
  {
   "cell_type": "code",
   "execution_count": 22,
   "metadata": {},
   "outputs": [],
   "source": [
    "# Create new column to apply main_cat\n",
    "df_cat['main_cat'] = df['categories'].apply(main_cat)"
   ]
  },
  {
   "cell_type": "code",
   "execution_count": 23,
   "metadata": {},
   "outputs": [
    {
     "data": {
      "text/html": [
       "<div>\n",
       "<style scoped>\n",
       "    .dataframe tbody tr th:only-of-type {\n",
       "        vertical-align: middle;\n",
       "    }\n",
       "\n",
       "    .dataframe tbody tr th {\n",
       "        vertical-align: top;\n",
       "    }\n",
       "\n",
       "    .dataframe thead th {\n",
       "        text-align: right;\n",
       "    }\n",
       "</style>\n",
       "<table border=\"1\" class=\"dataframe\">\n",
       "  <thead>\n",
       "    <tr style=\"text-align: right;\">\n",
       "      <th></th>\n",
       "      <th>categories</th>\n",
       "      <th>main_cat</th>\n",
       "    </tr>\n",
       "  </thead>\n",
       "  <tbody>\n",
       "    <tr>\n",
       "      <th>0</th>\n",
       "      <td>hep-ph</td>\n",
       "      <td>physics</td>\n",
       "    </tr>\n",
       "    <tr>\n",
       "      <th>1</th>\n",
       "      <td>math.CO cs.CG</td>\n",
       "      <td>cs</td>\n",
       "    </tr>\n",
       "    <tr>\n",
       "      <th>2</th>\n",
       "      <td>physics.gen-ph</td>\n",
       "      <td>cs</td>\n",
       "    </tr>\n",
       "    <tr>\n",
       "      <th>3</th>\n",
       "      <td>math.CO</td>\n",
       "      <td>math</td>\n",
       "    </tr>\n",
       "    <tr>\n",
       "      <th>4</th>\n",
       "      <td>math.CA math.FA</td>\n",
       "      <td>math</td>\n",
       "    </tr>\n",
       "  </tbody>\n",
       "</table>\n",
       "</div>"
      ],
      "text/plain": [
       "        categories main_cat\n",
       "0           hep-ph  physics\n",
       "1    math.CO cs.CG       cs\n",
       "2   physics.gen-ph       cs\n",
       "3          math.CO     math\n",
       "4  math.CA math.FA     math"
      ]
     },
     "execution_count": 23,
     "metadata": {},
     "output_type": "execute_result"
    }
   ],
   "source": [
    "df_cat.head()"
   ]
  },
  {
   "cell_type": "markdown",
   "metadata": {},
   "source": [
    "#### Count unique values in main cat column"
   ]
  },
  {
   "cell_type": "code",
   "execution_count": 68,
   "metadata": {},
   "outputs": [
    {
     "data": {
      "text/plain": [
       "8"
      ]
     },
     "execution_count": 68,
     "metadata": {},
     "output_type": "execute_result"
    }
   ],
   "source": [
    "len(df_cat.main_cat.unique())"
   ]
  },
  {
   "cell_type": "code",
   "execution_count": 69,
   "metadata": {},
   "outputs": [
    {
     "data": {
      "text/plain": [
       "physics    901715\n",
       "math       416118\n",
       "cs         400755\n",
       "stat        30762\n",
       "q-bio       20717\n",
       "eess        16725\n",
       "q-fin        8030\n",
       "econ         2089\n",
       "Name: main_cat, dtype: int64"
      ]
     },
     "execution_count": 69,
     "metadata": {},
     "output_type": "execute_result"
    }
   ],
   "source": [
    "df_cat.main_cat.value_counts()"
   ]
  },
  {
   "cell_type": "code",
   "execution_count": 70,
   "metadata": {},
   "outputs": [
    {
     "data": {
      "text/plain": [
       "1796911"
      ]
     },
     "execution_count": 70,
     "metadata": {},
     "output_type": "execute_result"
    }
   ],
   "source": [
    "sum(df_cat.main_cat.value_counts().values)"
   ]
  },
  {
   "cell_type": "markdown",
   "metadata": {},
   "source": [
    "## Explore column abstract (feature)"
   ]
  },
  {
   "cell_type": "code",
   "execution_count": 71,
   "metadata": {},
   "outputs": [
    {
     "data": {
      "text/html": [
       "<div>\n",
       "<style scoped>\n",
       "    .dataframe tbody tr th:only-of-type {\n",
       "        vertical-align: middle;\n",
       "    }\n",
       "\n",
       "    .dataframe tbody tr th {\n",
       "        vertical-align: top;\n",
       "    }\n",
       "\n",
       "    .dataframe thead th {\n",
       "        text-align: right;\n",
       "    }\n",
       "</style>\n",
       "<table border=\"1\" class=\"dataframe\">\n",
       "  <thead>\n",
       "    <tr style=\"text-align: right;\">\n",
       "      <th></th>\n",
       "      <th>abstract</th>\n",
       "    </tr>\n",
       "  </thead>\n",
       "  <tbody>\n",
       "    <tr>\n",
       "      <th>0</th>\n",
       "      <td>A fully differential calculation in perturba...</td>\n",
       "    </tr>\n",
       "    <tr>\n",
       "      <th>1</th>\n",
       "      <td>We describe a new algorithm, the $(k,\\ell)$-...</td>\n",
       "    </tr>\n",
       "    <tr>\n",
       "      <th>2</th>\n",
       "      <td>The evolution of Earth-Moon system is descri...</td>\n",
       "    </tr>\n",
       "    <tr>\n",
       "      <th>3</th>\n",
       "      <td>We show that a determinant of Stirling cycle...</td>\n",
       "    </tr>\n",
       "    <tr>\n",
       "      <th>4</th>\n",
       "      <td>In this paper we show how to compute the $\\L...</td>\n",
       "    </tr>\n",
       "    <tr>\n",
       "      <th>5</th>\n",
       "      <td>We study the two-particle wave function of p...</td>\n",
       "    </tr>\n",
       "    <tr>\n",
       "      <th>6</th>\n",
       "      <td>A rather non-standard quantum representation...</td>\n",
       "    </tr>\n",
       "    <tr>\n",
       "      <th>7</th>\n",
       "      <td>A general formulation was developed to repre...</td>\n",
       "    </tr>\n",
       "    <tr>\n",
       "      <th>8</th>\n",
       "      <td>We discuss the results from the combined IRA...</td>\n",
       "    </tr>\n",
       "    <tr>\n",
       "      <th>9</th>\n",
       "      <td>Partial cubes are isometric subgraphs of hyp...</td>\n",
       "    </tr>\n",
       "  </tbody>\n",
       "</table>\n",
       "</div>"
      ],
      "text/plain": [
       "                                            abstract\n",
       "0    A fully differential calculation in perturba...\n",
       "1    We describe a new algorithm, the $(k,\\ell)$-...\n",
       "2    The evolution of Earth-Moon system is descri...\n",
       "3    We show that a determinant of Stirling cycle...\n",
       "4    In this paper we show how to compute the $\\L...\n",
       "5    We study the two-particle wave function of p...\n",
       "6    A rather non-standard quantum representation...\n",
       "7    A general formulation was developed to repre...\n",
       "8    We discuss the results from the combined IRA...\n",
       "9    Partial cubes are isometric subgraphs of hyp..."
      ]
     },
     "execution_count": 71,
     "metadata": {},
     "output_type": "execute_result"
    }
   ],
   "source": [
    "df_abs = query_columns(columns=['abstract'])\n",
    "df_abs.head(10)"
   ]
  },
  {
   "cell_type": "markdown",
   "metadata": {},
   "source": [
    "#### Extract abstract keywords"
   ]
  },
  {
   "cell_type": "code",
   "execution_count": 73,
   "metadata": {},
   "outputs": [],
   "source": [
    "from gensim.summarization import keywords"
   ]
  },
  {
   "cell_type": "code",
   "execution_count": 79,
   "metadata": {},
   "outputs": [
    {
     "data": {
      "text/plain": [
       "'  A fully differential calculation in perturbative quantum chromodynamics is\\npresented for the production of massive photon pairs at hadron colliders. All\\nnext-to-leading order perturbative contributions from quark-antiquark,\\ngluon-(anti)quark, and gluon-gluon subprocesses are included, as well as\\nall-orders resummation of initial-state gluon radiation valid at\\nnext-to-next-to-leading logarithmic accuracy. The region of phase space is\\nspecified in which the calculation is most reliable. Good agreement is\\ndemonstrated with data from the Fermilab Tevatron, and predictions are made for\\nmore detailed tests with CDF and DO data. Predictions are shown for\\ndistributions of diphoton pairs produced at the energy of the Large Hadron\\nCollider (LHC). Distributions of the diphoton pairs from the decay of a Higgs\\nboson are contrasted with those produced from QCD processes at the LHC, showing\\nthat enhanced sensitivity to the signal can be obtained with judicious\\nselection of events.\\n'"
      ]
     },
     "execution_count": 79,
     "metadata": {},
     "output_type": "execute_result"
    }
   ],
   "source": [
    "text = df_abs.iloc[0,0]\n",
    "text"
   ]
  },
  {
   "cell_type": "code",
   "execution_count": 77,
   "metadata": {},
   "outputs": [],
   "source": [
    "values = keywords(text=text, split='\\n', scores=True)"
   ]
  },
  {
   "cell_type": "code",
   "execution_count": 78,
   "metadata": {},
   "outputs": [
    {
     "data": {
      "text/plain": [
       "[('gluon', 0.33875403871021675),\n",
       " ('lhc', 0.22600055606887032),\n",
       " ('perturbative', 0.2083347827247869),\n",
       " ('order', 0.2054714891227234),\n",
       " ('photon pairs', 0.19791870705781547),\n",
       " ('differential', 0.19159566832296288),\n",
       " ('good', 0.1915956683229628),\n",
       " ('hadron', 0.1571907805770558),\n",
       " ('logarithmic', 0.15179478208006933)]"
      ]
     },
     "execution_count": 78,
     "metadata": {},
     "output_type": "execute_result"
    }
   ],
   "source": [
    "values"
   ]
  },
  {
   "cell_type": "code",
   "execution_count": null,
   "metadata": {},
   "outputs": [],
   "source": []
  },
  {
   "cell_type": "code",
   "execution_count": null,
   "metadata": {},
   "outputs": [],
   "source": []
  },
  {
   "cell_type": "code",
   "execution_count": null,
   "metadata": {},
   "outputs": [],
   "source": []
  },
  {
   "cell_type": "code",
   "execution_count": null,
   "metadata": {},
   "outputs": [],
   "source": []
  },
  {
   "cell_type": "code",
   "execution_count": null,
   "metadata": {},
   "outputs": [],
   "source": []
  },
  {
   "cell_type": "markdown",
   "metadata": {},
   "source": [
    "## Explore json file content"
   ]
  },
  {
   "cell_type": "code",
   "execution_count": null,
   "metadata": {},
   "outputs": [],
   "source": [
    "# path to json file\n",
    "file = 'arxiv-metadata-oai-snapshot.json'\n",
    "# load json file as chunks iterator\n",
    "chunks = pd.read_json(file, lines=True, chunksize = 100000)\n",
    "# initiate empty dataframe to extract chunk\n",
    "df_explore = pd.DataFrame()\n",
    "# loop on each chunk\n",
    "for df in chunks:\n",
    "    df_explore = df"
   ]
  },
  {
   "cell_type": "code",
   "execution_count": null,
   "metadata": {},
   "outputs": [],
   "source": [
    "for col_id in range(len(df_explore.keys())):\n",
    "    print(f'- Column \\'{df_explore.keys()[col_id]}\\': {df_explore.iloc[1,col_id]} --> {type(df_explore.iloc[1,col_id])} \\n')"
   ]
  },
  {
   "cell_type": "markdown",
   "metadata": {},
   "source": [
    "## Populate arxiv database from json file"
   ]
  },
  {
   "cell_type": "code",
   "execution_count": null,
   "metadata": {},
   "outputs": [],
   "source": [
    "# connect to database\n",
    "con = sl.connect('arxiv.db')"
   ]
  },
  {
   "cell_type": "code",
   "execution_count": null,
   "metadata": {},
   "outputs": [],
   "source": [
    "# path to json file\n",
    "file = 'arxiv-metadata-oai-snapshot.json'\n",
    "# load json file as chunks iterator\n",
    "chunks = pd.read_json(file, lines=True, chunksize = 100000)\n",
    "# loop on each chunk\n",
    "for df in chunks:\n",
    "    # convert 'versions' lists to strings\n",
    "    df.versions = df.versions.astype('str')\n",
    "    # replace single quote by double quote in 'versions' strings\n",
    "    df.versions = df.versions.map(lambda x: x.replace('\\'', '\\\"'))\n",
    "    # convert 'authors_parsed' lists to strings\n",
    "    df.authors_parsed = df.authors_parsed.astype('str')\n",
    "    # replace single quote by double quote in 'authors_parsed' strings\n",
    "    df.authors_parsed = df.authors_parsed.map(lambda x: x.replace('\\'', '\\\"'))\n",
    "    # append df chunk to ARXIV table in arxiv.db\n",
    "    df.to_sql('ARXIV', con, if_exists='append', index=False)"
   ]
  },
  {
   "cell_type": "code",
   "execution_count": null,
   "metadata": {},
   "outputs": [],
   "source": [
    "# checkk ARXIV table content\n",
    "df_check = pd.read_sql(\"SELECT * FROM ARXIV LIMIT 5\", con)\n",
    "df_check"
   ]
  }
 ],
 "metadata": {
  "kernelspec": {
   "display_name": "Python 3",
   "language": "python",
   "name": "python3"
  },
  "language_info": {
   "codemirror_mode": {
    "name": "ipython",
    "version": 3
   },
   "file_extension": ".py",
   "mimetype": "text/x-python",
   "name": "python",
   "nbconvert_exporter": "python",
   "pygments_lexer": "ipython3",
   "version": "3.7.9"
  }
 },
 "nbformat": 4,
 "nbformat_minor": 4
}
